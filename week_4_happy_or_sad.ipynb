{
  "nbformat": 4,
  "nbformat_minor": 0,
  "metadata": {
    "colab": {
      "name": "week 4 happy or sad.ipynb",
      "provenance": [],
      "authorship_tag": "ABX9TyOFexsPizecwHZYu+xBOnCC"
    },
    "kernelspec": {
      "name": "python3",
      "display_name": "Python 3"
    }
  },
  "cells": [
    {
      "cell_type": "code",
      "metadata": {
        "id": "-jPalL6fko1S",
        "colab_type": "code",
        "colab": {
          "base_uri": "https://localhost:8080/",
          "height": 34
        },
        "outputId": "1f90e785-b161-4bac-e2ce-d4e0df8c5540"
      },
      "source": [
        "import tensorflow as tf\n",
        "print(tf.__version__)"
      ],
      "execution_count": null,
      "outputs": [
        {
          "output_type": "stream",
          "text": [
            "2.2.0\n"
          ],
          "name": "stdout"
        }
      ]
    },
    {
      "cell_type": "code",
      "metadata": {
        "id": "TB5rk5ClmK2a",
        "colab_type": "code",
        "colab": {}
      },
      "source": [
        "import os\n",
        "from zipfile import ZipFile\n",
        "\n",
        "!wget \"https://storage.googleapis.com/laurencemoroney-blog.appspot.com/happy-or-sad.zip\"\n",
        "\n",
        "dir = os.getcwd() + '/happy-or-sad.zip'\n",
        "\n",
        "zipDir = ZipFile(dir,'r')\n",
        "zipDir.extractall('/tmp/h-or-sad/')\n",
        "zipDir.close()\n",
        "\n",
        "!rm happy-or-sad.zip*"
      ],
      "execution_count": 9,
      "outputs": []
    },
    {
      "cell_type": "code",
      "metadata": {
        "id": "Kwx4aadGwHKp",
        "colab_type": "code",
        "colab": {
          "base_uri": "https://localhost:8080/",
          "height": 459
        },
        "outputId": "5b933d66-e3de-4f0f-b7d2-8aa2d1e440db"
      },
      "source": [
        "import tensorflow.keras as keras\n",
        "from tensorflow.keras import layers\n",
        "\n",
        "model = keras.Sequential([\n",
        "  layers.Conv2D(64, (3,3), activation='relu', input_shape=(150,150,3)),\n",
        "  layers.MaxPooling2D((2,2)),\n",
        "  layers.Conv2D(32, (3,3), activation='relu'),\n",
        "  layers.MaxPooling2D((2,2)),\n",
        "  layers.Conv2D(32, (3,3), activation='relu'),\n",
        "  layers.MaxPooling2D((2,2)),\n",
        "  layers.Flatten(),\n",
        "  layers.Dense(64, activation='relu'),\n",
        "  layers.Dense(1, activation='sigmoid')\n",
        "])\n",
        "\n",
        "model.summary()"
      ],
      "execution_count": 24,
      "outputs": [
        {
          "output_type": "stream",
          "text": [
            "Model: \"sequential_2\"\n",
            "_________________________________________________________________\n",
            "Layer (type)                 Output Shape              Param #   \n",
            "=================================================================\n",
            "conv2d_6 (Conv2D)            (None, 148, 148, 64)      1792      \n",
            "_________________________________________________________________\n",
            "max_pooling2d_6 (MaxPooling2 (None, 74, 74, 64)        0         \n",
            "_________________________________________________________________\n",
            "conv2d_7 (Conv2D)            (None, 72, 72, 32)        18464     \n",
            "_________________________________________________________________\n",
            "max_pooling2d_7 (MaxPooling2 (None, 36, 36, 32)        0         \n",
            "_________________________________________________________________\n",
            "conv2d_8 (Conv2D)            (None, 34, 34, 32)        9248      \n",
            "_________________________________________________________________\n",
            "max_pooling2d_8 (MaxPooling2 (None, 17, 17, 32)        0         \n",
            "_________________________________________________________________\n",
            "flatten_2 (Flatten)          (None, 9248)              0         \n",
            "_________________________________________________________________\n",
            "dense_4 (Dense)              (None, 64)                591936    \n",
            "_________________________________________________________________\n",
            "dense_5 (Dense)              (None, 1)                 65        \n",
            "=================================================================\n",
            "Total params: 621,505\n",
            "Trainable params: 621,505\n",
            "Non-trainable params: 0\n",
            "_________________________________________________________________\n"
          ],
          "name": "stdout"
        }
      ]
    },
    {
      "cell_type": "code",
      "metadata": {
        "id": "wixQrmF6yIyu",
        "colab_type": "code",
        "colab": {
          "base_uri": "https://localhost:8080/",
          "height": 34
        },
        "outputId": "86831e8f-7ed3-4bd1-b6b7-f7270ab0db92"
      },
      "source": [
        "from tensorflow.keras.preprocessing.image import ImageDataGenerator\n",
        "\n",
        "imageGenerator = ImageDataGenerator(rescale=1/255)\n",
        "\n",
        "image = imageGenerator.flow_from_directory(\n",
        "    '/tmp/h-or-sad/',\n",
        "    target_size=(150,150),\n",
        "    batch_size=5,\n",
        "    class_mode='binary',\n",
        ")\n"
      ],
      "execution_count": 26,
      "outputs": [
        {
          "output_type": "stream",
          "text": [
            "Found 80 images belonging to 2 classes.\n"
          ],
          "name": "stdout"
        }
      ]
    },
    {
      "cell_type": "code",
      "metadata": {
        "id": "PpqT9FCFzGqk",
        "colab_type": "code",
        "colab": {}
      },
      "source": [
        "from tensorflow.keras.optimizers import RMSprop\n",
        "\n",
        "model.compile(\n",
        "    optimizer=RMSprop(lr=0.001),\n",
        "    loss='binary_crossentropy',\n",
        "    metrics=['accuracy']\n",
        ")"
      ],
      "execution_count": 27,
      "outputs": []
    },
    {
      "cell_type": "code",
      "metadata": {
        "id": "2FS0dfpKzmyv",
        "colab_type": "code",
        "colab": {}
      },
      "source": [
        "ACCURACY = 0.999\n",
        "\n",
        "class myCallback(keras.callbacks.Callback):\n",
        "  def on_epoch_end(self, epoch, logs={}):\n",
        "    if logs.get('accuracy') > ACCURACY:\n",
        "      print('\\nReached',ACCURACY*100,'\\b% Accuracy')\n",
        "      self.model.stop_training = True\n",
        "\n",
        "callback = myCallback()"
      ],
      "execution_count": 30,
      "outputs": []
    },
    {
      "cell_type": "code",
      "metadata": {
        "id": "cDtae8f10Uun",
        "colab_type": "code",
        "colab": {
          "base_uri": "https://localhost:8080/",
          "height": 85
        },
        "outputId": "a97bfaa3-b04a-40cb-a799-681424692cd8"
      },
      "source": [
        "history = model.fit_generator(\n",
        "    image,\n",
        "    steps_per_epoch=16,\n",
        "    epochs=20,\n",
        "    verbose=1,\n",
        "    callbacks=[callback]\n",
        ")"
      ],
      "execution_count": 32,
      "outputs": [
        {
          "output_type": "stream",
          "text": [
            "Epoch 1/20\n",
            "16/16 [==============================] - ETA: 0s - loss: 0.0015 - accuracy: 1.0000\n",
            "Reached 99.9 \b% Accuracy\n",
            "16/16 [==============================] - 3s 214ms/step - loss: 0.0015 - accuracy: 1.0000\n"
          ],
          "name": "stdout"
        }
      ]
    },
    {
      "cell_type": "code",
      "metadata": {
        "id": "mWoH6yK32ss7",
        "colab_type": "code",
        "colab": {
          "base_uri": "https://localhost:8080/",
          "height": 51
        },
        "outputId": "2aa75e8a-9601-456d-d070-4bcd25303f2f"
      },
      "source": [
        "print('Accuracy:',history.history.get('accuracy')[0])\n",
        "print('Loss:',history.history.get('loss')[0])"
      ],
      "execution_count": 42,
      "outputs": [
        {
          "output_type": "stream",
          "text": [
            "Accuracy: 1.0\n",
            "Loss: 0.0015384296420961618\n"
          ],
          "name": "stdout"
        }
      ]
    }
  ]
}